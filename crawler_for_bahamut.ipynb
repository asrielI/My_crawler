{
 "cells": [
  {
   "cell_type": "markdown",
   "metadata": {},
   "source": [
    "根據edge瀏覽器"
   ]
  },
  {
   "cell_type": "markdown",
   "metadata": {},
   "source": [
    "todo\n",
    "---\n",
    "- [ ] 換頁時可能抓到重複資料\n",
    "- [ ] 根據比數抓資料\n",
    "- [ ] 使用selenium需要配合webdriver，需要更改\n",
    "- [ ] 還要抓取內文、推數、留言、回文\n"
   ]
  },
  {
   "cell_type": "code",
   "execution_count": 1,
   "metadata": {},
   "outputs": [],
   "source": [
    "import time\n",
    "from selenium import webdriver\n",
    "from bs4 import BeautifulSoup"
   ]
  },
  {
   "cell_type": "code",
   "execution_count": 2,
   "metadata": {},
   "outputs": [],
   "source": [
    "#放置webdriver的地方\n",
    "path = \"/Users/daishiwei/Desktop/程式設計/python/edgedriver_mac64/msedgedriver\""
   ]
  },
  {
   "cell_type": "code",
   "execution_count": 25,
   "metadata": {},
   "outputs": [],
   "source": [
    "def get_bh_title(path,page=1):\n",
    "    data=[]\n",
    "    driver = webdriver.Edge(path)\n",
    "    driver.implicitly_wait(10)\n",
    "    for i in range(page):\n",
    "        driver.get(f\"https://forum.gamer.com.tw/B.php?page={str(i+1)}&bsn=60076\")\n",
    "        titles = driver.find_elements_by_css_selector(\"p.b-list__main__title\")\n",
    "        for title in titles:\n",
    "            data.append([title.text,\"https://forum.gamer.com.tw/\"+title.get_attribute('href')])\n",
    "        \n",
    "        time.sleep(1)\n",
    "    driver.quit()\n",
    "    time.sleep(1)    \n",
    "    return data"
   ]
  }
 ],
 "metadata": {
  "interpreter": {
   "hash": "7812ea015bdcee6f23a998adcdd2ef97c151c0c241b7b7070987d9313e41299d"
  },
  "kernelspec": {
   "display_name": "Python 3.9.0 64-bit",
   "language": "python",
   "name": "python3"
  },
  "language_info": {
   "codemirror_mode": {
    "name": "ipython",
    "version": 3
   },
   "file_extension": ".py",
   "mimetype": "text/x-python",
   "name": "python",
   "nbconvert_exporter": "python",
   "pygments_lexer": "ipython3",
   "version": "3.9.0"
  },
  "orig_nbformat": 4
 },
 "nbformat": 4,
 "nbformat_minor": 2
}
